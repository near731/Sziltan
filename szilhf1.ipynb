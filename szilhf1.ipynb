{
  "nbformat": 4,
  "nbformat_minor": 0,
  "metadata": {
    "colab": {
      "name": "szilhf1.ipynb",
      "provenance": []
    },
    "kernelspec": {
      "name": "python3",
      "display_name": "Python 3"
    }
  },
  "cells": [
    {
      "cell_type": "code",
      "metadata": {
        "colab": {
          "base_uri": "https://localhost:8080/",
          "height": 1000
        },
        "id": "OgnbO8NFvXBK",
        "outputId": "171c72ca-c74d-4d3d-a137-35a02db45ef3"
      },
      "source": [
        "import numpy as np\r\n",
        "import sympy as sp\r\n",
        "\r\n",
        "print(\"Szilárdságtan HF1 megoldó\\n\")\r\n",
        "\r\n",
        "R,L,d,c,F1,F2,p,szigma_meg=sp.symbols(\"R,L,d,c,F1,F2,p,szigma_meg\")\r\n",
        "\r\n",
        "#ADATOK\r\n",
        "\r\n",
        "R_adat=0.25 #m\r\n",
        "L_adat=0.3 #m\r\n",
        "d_adat=50 #mm\r\n",
        "c_adat=36 #mm\r\n",
        "F1_adat=3 #kN\r\n",
        "F2_adat=1 #kN\r\n",
        "p_adat=4.5 #Kn/m\r\n",
        "szigma_meg_adat=100 #MPa\r\n",
        "\r\n",
        "adatok= [(R,R_adat),(L,L_adat),(d,d_adat),(c,c_adat),(F1,F1_adat),(F2,F2_adat),(p,p_adat),(szigma_meg,szigma_meg_adat)]\r\n",
        "\r\n",
        "#REAKCIÓERŐK SZÁMITÁSA (BIZTOS JÓ)\r\n",
        "\r\n",
        "print(\"1.feladatrész: \\n\")\r\n",
        "\r\n",
        "Ax=F1+F2\r\n",
        "Axn=Ax.subs(adatok)\r\n",
        "print(\"Ax=\",Axn,\"kN\")\r\n",
        "\r\n",
        "Bz=(1/(R+L))*(p*(R+L)*(L+((R+L)/2))-F1*(R/2)-F2*(R/2))\r\n",
        "Bzn=Bz.subs(adatok)\r\n",
        "print(\"Bz=\",Bzn,\"kN\")\r\n",
        "\r\n",
        "Az=p*(R+L)-Bz\r\n",
        "Azn=Az.subs(adatok)\r\n",
        "print(\"Az=\",Azn,\"kN\")\r\n",
        "\r\n",
        "B=Bzn\r\n",
        "print(\"B=\",B,\"kN\")\r\n",
        "A=(Ax**2+Az**2)**(1/2)\r\n",
        "An=A.subs(adatok)\r\n",
        "print(\"A=\",An,\"kN\")\r\n",
        "\r\n",
        "#NBx=NBz=NGx=NGz\r\n",
        "\r\n",
        "#NGz=Az+NCz-p*(R+L)\r\n",
        "#NGx=Ax-F1+NCx\r\n",
        "\r\n",
        "#VALAMI FÉLRE SZÁMOLÁS VAN ITT\r\n",
        "\r\n",
        "print(\"\\n2.feladatrész: \\n\")\r\n",
        "\r\n",
        "N3Cz=(1/(R+L))*(F1*(R/2)-p*(R+L)*(L+(R+L)/2)-(Az-p*(R+L))*L)\r\n",
        "N3Czn=N3Cz.subs(adatok)\r\n",
        "print(\"N3Cz=\",N3Czn,\"kN\") #JÓ\r\n",
        "\r\n",
        "NGz=Az-p*(R+L)-N3Cz\r\n",
        "NGzn=NGz.subs(adatok)\r\n",
        "print(\"NGz=\",NGzn,\"kN\") #JÓ\r\n",
        "\r\n",
        "NGx=NGzn\r\n",
        "NBx=NGx\r\n",
        "NBz=NGx\r\n",
        "print(\"NGx=NBx=NBz=\",NGx,\"kN\")\r\n",
        "\r\n",
        "N3Cx=Ax-F1+NGzn\r\n",
        "N3Cxn=N3Cx.subs(adatok)\r\n",
        "print(\"N3Cx=\",N3Cxn,\"kN\")\r\n",
        "\r\n",
        "N3Bx=F2-N3Cx\r\n",
        "N3Bxn=N3Bx.subs(adatok)\r\n",
        "print(\"N3Bx=\",N3Bxn,\"kN\")\r\n",
        "\r\n",
        "N3Bz=-N3Cz\r\n",
        "N3Bzn=N3Bz.subs(adatok)\r\n",
        "print(\"N3Bz=\",N3Bzn,\"kN\")\r\n",
        "\r\n",
        "#IGÉNYBEVÉTELI FÜGGVÉNYEK\r\n",
        "\r\n",
        "print(\"3.feladatrész: \\n\")\r\n",
        "print(\"Igénybevételi függvények:\\n\")\r\n",
        "\r\n",
        "x=sp.symbols(\"x\")\r\n",
        "\r\n",
        "N=sp.Piecewise((-Ax, x<=L), (-Ax+NGx, x<=L+R), (-Ax+NGx+F1, x<=2*L+R))\r\n",
        "V=sp.Piecewise((Az,x<=L),(Az-NGz-p*(x-L),x<=2*L+R))\r\n",
        "Mh=sp.Piecewise((-Az*x, x<=L), (-Az*x+N/Gz*(x-L)+p*((x-L)*(x-L))/2, x<=R+L),(F1*(R/2)-Az*x+NGz*(x*L)+p*((x-L)*(x-L))/2, x<=2*L+R))\r\n",
        "\r\n",
        "Nn=N.subs(adatok)\r\n",
        "Vn=V.subs(adatok)\r\n",
        "Mhn=Mh.subs(adatok)\r\n",
        "\r\n",
        "print(Nn)\r\n",
        "print(Vn)\r\n",
        "print(Mhn)\r\n",
        "\r\n",
        "#IGÉNYBEVÉTELI ÁBRÁK\r\n",
        "\r\n",
        "import matplotlib.pyplot as plt\r\n",
        "from numpy import linspace\r\n",
        "\r\n",
        "print(\"\\nIgénybevételi ábrák:\\n\")\r\n",
        "\r\n",
        "L0=(2*L+R).subs(adatok)\r\n",
        "xs=linspace(0.,float(L0),101)\r\n",
        "    \r\n",
        "\r\n",
        "Nxs=[Nn.subs(x,xi) for xi in xs]\r\n",
        "Vxs=[Vn.subs(x,xi) for xi in xs]\r\n",
        "Mhxs=[Mhn.subs(x,xi) for xi in xs]\r\n",
        "\r\n",
        "plt.plot(xs, Nxs, lw=3)\r\n",
        "plt.xlabel(\"$x$ (m)\")\r\n",
        "plt.ylabel(\"$N(x)$ (kNm)\")\r\n",
        "plt.grid()\r\n",
        "plt.show()\r\n",
        "\r\n",
        "\r\n",
        "plt.plot(xs, Vxs, lw=3)\r\n",
        "plt.xlabel(\"$x$ (m)\")\r\n",
        "plt.ylabel(\"$V(x)$ (kNm)\")\r\n",
        "plt.grid()\r\n",
        "plt.show()\r\n",
        "\r\n",
        "plt.plot(xs, Mhxs, lw=3)\r\n",
        "plt.xlabel(\"$x$ (m)\")\r\n",
        "plt.ylabel(\"$Mh(x)$ (kNm)\")\r\n",
        "plt.grid()\r\n",
        "plt.show()\r\n",
        "\r\n",
        "#VESZÉLYES KERESZTMETSZET Mhmax, KERESZTMETSZETI TÉNYEZŐ MEGADÁSA\r\n",
        "\r\n",
        "print(\"\\n4.feladatrész: \\n\")\r\n",
        "\r\n",
        "#t=0.55\r\n",
        "Mhmax=-Az*(R+L)+NGz*(R)+(p*(R)**2)/2\r\n",
        "Mhmaxn=Mhmax.subs(adatok)\r\n",
        "\r\n",
        "print(\"Mhmax=\",Mhmaxn,\"kNm\")\r\n",
        "\r\n",
        "Ky=(abs(Mhmax)/(1000*szigma_meg))*10**8\r\n",
        "Kyn=Ky.subs(adatok)\r\n",
        "print(\"Kymin=\",Kyn,\"mm4\")\r\n",
        "\r\n",
        "b=(48/23*Ky)**(1/3)\r\n",
        "bn=b.subs(adatok)\r\n",
        "print(\"b=\",bn,\"mm\")\r\n",
        "\r\n",
        "#Iy=(b*(2*b)**3)/12-((2*b-b/2)**3*(b-b/3))/12\r\n",
        "#Iyn=Iy.subs(adatok)\r\n",
        "\r\n",
        "#print(\"Iy=\",Iyn,\"mm4\")\r\n"
      ],
      "execution_count": 3,
      "outputs": [
        {
          "output_type": "stream",
          "text": [
            "Szilárdságtan HF1 megoldó\n",
            "\n",
            "1.feladatrész: \n",
            "\n",
            "Ax= 4 kN\n",
            "Bz= 1.67840909090909 kN\n",
            "Az= 0.796590909090909 kN\n",
            "B= 1.67840909090909 kN\n",
            "A= 4.07854840310205 kN\n",
            "\n",
            "2.feladatrész: \n",
            "\n",
            "N3Cz= -0.990185950413223 kN\n",
            "NGz= -0.688223140495868 kN\n",
            "NGx=NBx=NBz= -0.688223140495868 kN\n",
            "N3Cx= 0.311776859504132 kN\n",
            "N3Bx= 0.688223140495868 kN\n",
            "N3Bz= 0.990185950413223 kN\n",
            "3.feladatrész: \n",
            "\n",
            "Igénybevételi függvények:\n",
            "\n",
            "Piecewise((-4, x <= 0.3), (-4.68822314049587, x <= 0.55), (-1.68822314049587, x <= 0.85))\n",
            "Piecewise((0.796590909090909, x <= 0.3), (-4.5*x + 2.83481404958678, x <= 0.85))\n",
            "Piecewise((-0.796590909090909*x, x <= 0.3), (-1.48481404958678*x + 2.25*(x - 0.3)**2 + 0.20646694214876, x <= 0.55), (-1.00305785123967*x + 2.25*(x - 0.3)**2 + 0.375, x <= 0.85))\n",
            "\n",
            "Igénybevételi ábrák:\n",
            "\n"
          ],
          "name": "stdout"
        },
        {
          "output_type": "display_data",
          "data": {
            "image/png": "[encoded data removed]",
            "text/plain": [
              "<Figure size 432x288 with 1 Axes>"
            ]
          },
          "metadata": {
            "tags": [],
            "needs_background": "light"
          }
        },
        {
          "output_type": "display_data",
          "data": {
            "image/png": "[encoded data removed]",
            "text/plain": [
              "<Figure size 432x288 with 1 Axes>"
            ]
          },
          "metadata": {
            "tags": [],
            "needs_background": "light"
          }
        },
        {
          "output_type": "display_data",
          "data": {
            "image/png": "[encoded data removed]",
            "text/plain": [
              "<Figure size 432x288 with 1 Axes>"
            ]
          },
          "metadata": {
            "tags": [],
            "needs_background": "light"
          }
        },
        {
          "output_type": "stream",
          "text": [
            "\n",
            "4.feladatrész: \n",
            "\n",
            "Mhmax= -0.469555785123967 kNm\n",
            "Kymin= 469.555785123967 mm4\n",
            "b= 9.93268964172281 mm\n"
          ],
          "name": "stdout"
        }
      ]
    },
    {
      "cell_type": "code",
      "metadata": {
        "id": "CHvmDeTIY1Lk"
      },
      "source": [
        ""
      ],
      "execution_count": null,
      "outputs": []
    }
  ]
}